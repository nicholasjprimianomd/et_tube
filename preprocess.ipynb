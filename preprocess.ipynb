{
 "cells": [
  {
   "cell_type": "code",
   "execution_count": 7,
   "metadata": {},
   "outputs": [],
   "source": [
    "import pandas as pd\n",
    "import cv2 as cv\n",
    "from tqdm import tqdm\n",
    "import os\n",
    "from PIL import Image"
   ]
  },
  {
   "cell_type": "code",
   "execution_count": 2,
   "metadata": {},
   "outputs": [],
   "source": [
    "df = pd.read_csv(r\"F:\\ET_Tube\\CheXpert-v1.0\\CheXpert-v1.0\\train.csv\")"
   ]
  },
  {
   "cell_type": "code",
   "execution_count": 4,
   "metadata": {},
   "outputs": [],
   "source": [
    "filtered_df = df[(df['AP/PA'] == 'AP') & (df['Support Devices'] == 1.0)]\n",
    "jpg_filepaths = filtered_df[\"Path\"]"
   ]
  },
  {
   "cell_type": "code",
   "execution_count": 27,
   "metadata": {},
   "outputs": [],
   "source": [
    "dest_dir = 'F:\\ET_Tube\\CheXpert-v1.0\\support_devices_only_ap_me'\n",
    "if not os.path.exists(dest_dir):\n",
    "    os.makedirs(dest_dir)"
   ]
  },
  {
   "cell_type": "code",
   "execution_count": 30,
   "metadata": {},
   "outputs": [
    {
     "name": "stderr",
     "output_type": "stream",
     "text": [
      "C:\\Users\\nprim\\AppData\\Local\\Temp\\ipykernel_22200\\2323525470.py:2: FutureWarning: The behavior of `series[i:j]` with an integer-dtype index is deprecated. In a future version, this will be treated as *label-based* indexing, consistent with e.g. `series[i]` lookups. To retain the old behavior, use `series.iloc[i:j]`. To get the future behavior, use `series.loc[i:j]`.\n",
      "  nick_jpg = jpg_filepaths[:middle]\n",
      "C:\\Users\\nprim\\AppData\\Local\\Temp\\ipykernel_22200\\2323525470.py:3: FutureWarning: The behavior of `series[i:j]` with an integer-dtype index is deprecated. In a future version, this will be treated as *label-based* indexing, consistent with e.g. `series[i]` lookups. To retain the old behavior, use `series.iloc[i:j]`. To get the future behavior, use `series.loc[i:j]`.\n",
      "  nate_jps = jpg_filepaths[middle:]\n"
     ]
    }
   ],
   "source": [
    "middle = len(jpg_filepaths) //2\n",
    "nick_jpg = jpg_filepaths[:middle]\n",
    "nate_jps = jpg_filepaths[middle:]"
   ]
  },
  {
   "cell_type": "code",
   "execution_count": 12,
   "metadata": {},
   "outputs": [],
   "source": [
    "current_directory = os.getcwd()"
   ]
  },
  {
   "cell_type": "code",
   "execution_count": 35,
   "metadata": {},
   "outputs": [
    {
     "name": "stderr",
     "output_type": "stream",
     "text": [
      "49514it [1:06:29, 12.41it/s]\n"
     ]
    }
   ],
   "source": [
    "for idx, filepath in tqdm(enumerate(nick_jpg)):\n",
    "    dest_path = os.path.join(dest_dir, str(idx))\n",
    "    input_image = os.path.join(current_directory, filepath)\n",
    "    image = Image.open(input_image)\n",
    "    image.save(dest_path+\".jpg\")\n",
    "    image.close()"
   ]
  },
  {
   "cell_type": "code",
   "execution_count": 36,
   "metadata": {},
   "outputs": [],
   "source": [
    "dest_dir = 'F:\\ET_Tube\\CheXpert-v1.0\\support_devices_only_ap_me'\n",
    "if not os.path.exists(dest_dir):\n",
    "    os.makedirs(dest_dir)"
   ]
  },
  {
   "cell_type": "code",
   "execution_count": 37,
   "metadata": {},
   "outputs": [
    {
     "name": "stderr",
     "output_type": "stream",
     "text": [
      "49514it [1:21:27, 10.13it/s]\n"
     ]
    }
   ],
   "source": [
    "for idx, filepath in tqdm(enumerate(nate_jps)):\n",
    "    dest_path = os.path.join(dest_dir, str(idx))\n",
    "    input_image = os.path.join(current_directory, filepath)\n",
    "    image = Image.open(input_image)\n",
    "    image.save(dest_path+\".jpg\")\n",
    "    image.close()"
   ]
  },
  {
   "cell_type": "code",
   "execution_count": null,
   "metadata": {},
   "outputs": [],
   "source": []
  }
 ],
 "metadata": {
  "kernelspec": {
   "display_name": "base",
   "language": "python",
   "name": "python3"
  },
  "language_info": {
   "codemirror_mode": {
    "name": "ipython",
    "version": 3
   },
   "file_extension": ".py",
   "mimetype": "text/x-python",
   "name": "python",
   "nbconvert_exporter": "python",
   "pygments_lexer": "ipython3",
   "version": "3.9.12"
  },
  "orig_nbformat": 4
 },
 "nbformat": 4,
 "nbformat_minor": 2
}
